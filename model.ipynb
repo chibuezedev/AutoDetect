{
 "cells": [
  {
   "cell_type": "code",
   "execution_count": 13,
   "metadata": {},
   "outputs": [],
   "source": [
    "# type: ignore\n",
    "import matplotlib\n",
    "import matplotlib.pyplot as plt \n",
    "import pandas as pd\n",
    "import numpy as np\n",
    "import seaborn as sns\n",
    "import sklearn\n",
    "import imblearn\n",
    "import sys\n",
    "import warnings\n",
    "\n",
    "warnings.filterwarnings(\"ignore\")"
   ]
  },
  {
   "cell_type": "code",
   "execution_count": 15,
   "metadata": {},
   "outputs": [],
   "source": [
    "# initial settings\n",
    "\n",
    "pd.set_option('display.max_columns', None)\n",
    "np.set_printoptions(threshold=sys.maxsize)\n",
    "np.set_printoptions(precision=3)\n",
    "sns.set(style=\"darkgrid\")\n",
    "plt.rcParams['axes.labelsize'] = 14\n",
    "plt.rcParams['xtick.labelsize'] = 12\n",
    "plt.rcParams['ytick.labelsize'] = 12"
   ]
  },
  {
   "cell_type": "code",
   "execution_count": 16,
   "metadata": {},
   "outputs": [],
   "source": [
    "# Load NSL_KDD train and test dataset\n",
    "\n",
    "datacolumns = [\n",
    "    \"duration\", \"protocol_type\", \"service\", \"flag\", \"src_bytes\",\n",
    "    \"dst_bytes\", \"land\", \"wrong_fragment\", \"urgent\", \"hot\", \"num_failed_logins\",\n",
    "    \"logged_in\", \"num_compromised\", \"root_shell\", \"su_attempted\", \"num_root\",\n",
    "    \"num_file_creations\", \"num_shells\", \"num_access_files\", \"num_outbound_cmds\",\n",
    "    \"is_host_login\", \"is_guest_login\", \"count\", \"srv_count\", \"serror_rate\",\n",
    "    \"srv_serror_rate\", \"rerror_rate\", \"srv_rerror_rate\", \"same_srv_rate\",\n",
    "    \"diff_srv_rate\", \"srv_diff_host_rate\", \"dst_host_count\", \"dst_host_srv_count\",\n",
    "    \"dst_host_same_srv_rate\", \"dst_host_diff_srv_rate\", \"dst_host_same_src_port_rate\",\n",
    "    \"dst_host_srv_diff_host_rate\", \"dst_host_serror_rate\", \"dst_host_srv_serror_rate\",\n",
    "    \"dst_host_rerror_rate\", \"dst_host_srv_rerror_rate\", \"attack\", \"last_flag\"\n",
    "]\n",
    "\n",
    "train_data = pd.read_table(\"./dataset/KDDTrain.txt\", sep=\",\", names=datacolumns)\n",
    "train_data = train_data.iloc[:, :-1]\n",
    "\n",
    "test_data = pd.read_table(\"./dataset/KDDTest.txt\", sep=\",\", names=datacolumns)\n",
    "test_data = test_data.iloc[:, :-1]\n"
   ]
  },
  {
   "cell_type": "code",
   "execution_count": 17,
   "metadata": {},
   "outputs": [
    {
     "name": "stdout",
     "output_type": "stream",
     "text": [
      "   duration protocol_type   service flag  src_bytes  dst_bytes  land  \\\n",
      "0         0           tcp  ftp_data   SF        491          0     0   \n",
      "1         0           udp     other   SF        146          0     0   \n",
      "2         0           tcp   private   S0          0          0     0   \n",
      "\n",
      "   wrong_fragment  urgent  hot  num_failed_logins  logged_in  num_compromised  \\\n",
      "0               0       0    0                  0          0                0   \n",
      "1               0       0    0                  0          0                0   \n",
      "2               0       0    0                  0          0                0   \n",
      "\n",
      "   root_shell  su_attempted  num_root  num_file_creations  num_shells  \\\n",
      "0           0             0         0                   0           0   \n",
      "1           0             0         0                   0           0   \n",
      "2           0             0         0                   0           0   \n",
      "\n",
      "   num_access_files  num_outbound_cmds  is_host_login  is_guest_login  count  \\\n",
      "0                 0                  0              0               0      2   \n",
      "1                 0                  0              0               0     13   \n",
      "2                 0                  0              0               0    123   \n",
      "\n",
      "   srv_count  serror_rate  srv_serror_rate  rerror_rate  srv_rerror_rate  \\\n",
      "0          2          0.0              0.0          0.0              0.0   \n",
      "1          1          0.0              0.0          0.0              0.0   \n",
      "2          6          1.0              1.0          0.0              0.0   \n",
      "\n",
      "   same_srv_rate  diff_srv_rate  srv_diff_host_rate  dst_host_count  \\\n",
      "0           1.00           0.00                 0.0             150   \n",
      "1           0.08           0.15                 0.0             255   \n",
      "2           0.05           0.07                 0.0             255   \n",
      "\n",
      "   dst_host_srv_count  dst_host_same_srv_rate  dst_host_diff_srv_rate  \\\n",
      "0                  25                    0.17                    0.03   \n",
      "1                   1                    0.00                    0.60   \n",
      "2                  26                    0.10                    0.05   \n",
      "\n",
      "   dst_host_same_src_port_rate  dst_host_srv_diff_host_rate  \\\n",
      "0                         0.17                          0.0   \n",
      "1                         0.88                          0.0   \n",
      "2                         0.00                          0.0   \n",
      "\n",
      "   dst_host_serror_rate  dst_host_srv_serror_rate  dst_host_rerror_rate  \\\n",
      "0                   0.0                       0.0                  0.05   \n",
      "1                   0.0                       0.0                  0.00   \n",
      "2                   1.0                       1.0                  0.00   \n",
      "\n",
      "   dst_host_srv_rerror_rate   attack  \n",
      "0                       0.0   normal  \n",
      "1                       0.0   normal  \n",
      "2                       0.0  neptune  \n",
      "\n",
      "Train set dimension: 125973 rows, 42 columns\n"
     ]
    }
   ],
   "source": [
    "print(train_data.head(3))\n",
    "print(f'\\nTrain set dimension: {train_data.shape[0]} rows, {train_data.shape[1]} columns')"
   ]
  },
  {
   "cell_type": "markdown",
   "metadata": {},
   "source": [
    "Print First 3 column from the test dataset"
   ]
  },
  {
   "cell_type": "code",
   "execution_count": 18,
   "metadata": {},
   "outputs": [
    {
     "name": "stdout",
     "output_type": "stream",
     "text": [
      "   duration protocol_type   service flag  src_bytes  dst_bytes  land  \\\n",
      "0         0           tcp   private  REJ          0          0     0   \n",
      "1         0           tcp   private  REJ          0          0     0   \n",
      "2         2           tcp  ftp_data   SF      12983          0     0   \n",
      "\n",
      "   wrong_fragment  urgent  hot  num_failed_logins  logged_in  num_compromised  \\\n",
      "0               0       0    0                  0          0                0   \n",
      "1               0       0    0                  0          0                0   \n",
      "2               0       0    0                  0          0                0   \n",
      "\n",
      "   root_shell  su_attempted  num_root  num_file_creations  num_shells  \\\n",
      "0           0             0         0                   0           0   \n",
      "1           0             0         0                   0           0   \n",
      "2           0             0         0                   0           0   \n",
      "\n",
      "   num_access_files  num_outbound_cmds  is_host_login  is_guest_login  count  \\\n",
      "0                 0                  0              0               0    229   \n",
      "1                 0                  0              0               0    136   \n",
      "2                 0                  0              0               0      1   \n",
      "\n",
      "   srv_count  serror_rate  srv_serror_rate  rerror_rate  srv_rerror_rate  \\\n",
      "0         10          0.0              0.0          1.0              1.0   \n",
      "1          1          0.0              0.0          1.0              1.0   \n",
      "2          1          0.0              0.0          0.0              0.0   \n",
      "\n",
      "   same_srv_rate  diff_srv_rate  srv_diff_host_rate  dst_host_count  \\\n",
      "0           0.04           0.06                 0.0             255   \n",
      "1           0.01           0.06                 0.0             255   \n",
      "2           1.00           0.00                 0.0             134   \n",
      "\n",
      "   dst_host_srv_count  dst_host_same_srv_rate  dst_host_diff_srv_rate  \\\n",
      "0                  10                    0.04                    0.06   \n",
      "1                   1                    0.00                    0.06   \n",
      "2                  86                    0.61                    0.04   \n",
      "\n",
      "   dst_host_same_src_port_rate  dst_host_srv_diff_host_rate  \\\n",
      "0                         0.00                         0.00   \n",
      "1                         0.00                         0.00   \n",
      "2                         0.61                         0.02   \n",
      "\n",
      "   dst_host_serror_rate  dst_host_srv_serror_rate  dst_host_rerror_rate  \\\n",
      "0                   0.0                       0.0                   1.0   \n",
      "1                   0.0                       0.0                   1.0   \n",
      "2                   0.0                       0.0                   0.0   \n",
      "\n",
      "   dst_host_srv_rerror_rate   attack  \n",
      "0                       1.0  neptune  \n",
      "1                       1.0  neptune  \n",
      "2                       0.0   normal  \n",
      "\n",
      "Test set dimension: 22544 rows, 42 columns\n"
     ]
    }
   ],
   "source": [
    "print(test_data.head(3))\n",
    "print(f'\\nTest set dimension: {test_data.shape[0]} rows, {test_data.shape[1]} columns')"
   ]
  },
  {
   "cell_type": "markdown",
   "metadata": {},
   "source": [
    "Data Processing for NSL-KDD Dataset"
   ]
  },
  {
   "cell_type": "code",
   "execution_count": null,
   "metadata": {},
   "outputs": [],
   "source": []
  }
 ],
 "metadata": {
  "kernelspec": {
   "display_name": "Python 3 (ipykernel)",
   "language": "python",
   "name": "python3"
  },
  "language_info": {
   "codemirror_mode": {
    "name": "ipython",
    "version": 3
   },
   "file_extension": ".py",
   "mimetype": "text/x-python",
   "name": "python",
   "nbconvert_exporter": "python",
   "pygments_lexer": "ipython3",
   "version": "3.12.3"
  }
 },
 "nbformat": 4,
 "nbformat_minor": 4
}
